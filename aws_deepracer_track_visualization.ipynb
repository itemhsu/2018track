{
  "cells": [
    {
      "cell_type": "markdown",
      "metadata": {},
      "source": [
        "# AWS DeepRacer Track Visualization\n",
        "\n",
        "This notebook demonstrates how to download and visualize AWS DeepRacer track data from the community repository.\n",
        "\n",
        "## Overview\n",
        "- Download track data (.npy files) from GitHub\n",
        "- Load and analyze track waypoint data\n",
        "- Create various visualizations of the track layout\n",
        "- Generate PNG files for different visualization styles"
      ]
    },
    {
      "cell_type": "markdown",
      "metadata": {},
      "source": [
        "## 1. Download Track Data\n",
        "\n",
        "First, we'll download the Re:Invent base track data from the AWS DeepRacer community repository."
      ]
    },
    {
      "cell_type": "code",
      "execution_count": null,
      "metadata": {},
      "source": [
        "# Download the track data using wget\n",
        "!wget https://github.com/aws-deepracer-community/deepracer-race-data/raw/refs/heads/main/raw_data/tracks/npy/reinvent_base.npy"
      ],
      "outputs": []
    },
    {
      "cell_type": "markdown",
      "metadata": {},
      "source": [
        "## 2. Load and Analyze Track Data"
      ]
    },
    {
      "cell_type": "code",
      "execution_count": null,
      "metadata": {},
      "source": [
        "import numpy as np\n",
        "import matplotlib.pyplot as plt\n",
        "\n",
        "# Load the track data\n",
        "track_data = np.load('reinvent_base.npy')\n",
        "print(f\"Track data shape: {track_data.shape}\")\n",
        "print(f\"Track data type: {track_data.dtype}\")\n",
        "print(f\"First few points:\\n{track_data[:5]}\")"
      ],
      "outputs": []
    },
    {
      "cell_type": "code",
      "execution_count": null,
      "metadata": {},
      "source": [
        "# Extract coordinates from the track data\n",
        "# Columns: [x_center, y_center, x_left, y_left, x_right, y_right]\n",
        "x_center = track_data[:, 0]\n",
        "y_center = track_data[:, 1]\n",
        "x_left = track_data[:, 2] \n",
        "y_left = track_data[:, 3]\n",
        "x_right = track_data[:, 4]\n",
        "y_right = track_data[:, 5]\n",
        "\n",
        "print(f\"Total waypoints: {len(x_center)}\")\n",
        "print(f\"X range: {x_center.min():.2f} to {x_center.max():.2f}\")\n",
        "print(f\"Y range: {y_center.min():.2f} to {y_center.max():.2f}\")"
      ],
      "outputs": []
    },
    {
      "cell_type": "markdown",
      "metadata": {},
      "source": [
        "## 3. Basic Track Visualization\n",
        "\n",
        "Create a basic track visualization with center line and boundaries."
      ]
    },
    {
      "cell_type": "code",
      "execution_count": null,
      "metadata": {},
      "source": [
        "# Create the basic track visualization\n",
        "plt.figure(figsize=(12, 8))\n",
        "\n",
        "# Plot the track\n",
        "plt.plot(x_center, y_center, 'b-', linewidth=3, label='Center Line')\n",
        "plt.plot(x_left, y_left, 'r-', linewidth=2, label='Left Boundary')  \n",
        "plt.plot(x_right, y_right, 'g-', linewidth=2, label='Right Boundary')\n",
        "\n",
        "# Make it look like a proper race track\n",
        "plt.axis('equal')\n",
        "plt.grid(True, alpha=0.3)\n",
        "plt.title('AWS DeepRacer - Re:Invent Base Track', fontsize=14, fontweight='bold')\n",
        "plt.xlabel('X Position (m)', fontsize=12)\n",
        "plt.ylabel('Y Position (m)', fontsize=12)\n",
        "plt.legend()\n",
        "\n",
        "# Save as PNG without showing\n",
        "plt.savefig('reinvent_base_track.png', dpi=300, bbox_inches='tight', \n",
        "            facecolor='white', edgecolor='none')\n",
        "plt.close()  # Close the figure to free memory and avoid display\n",
        "\n",
        "print(\"Track PNG saved as 'reinvent_base_track.png'\")"
      ],
      "outputs": []
    },
    {
      "cell_type": "markdown",
      "metadata": {},
      "source": [
        "## 4. Four Subplot Analysis\n",
        "\n",
        "Create a comprehensive view with 4 different visualizations in subplots."
      ]
    },
    {
      "cell_type": "code",
      "execution_count": null,
      "metadata": {},
      "source": [
        "# Create figure with 4 subplots (2x2 grid)\n",
        "fig, ((ax1, ax2), (ax3, ax4)) = plt.subplots(2, 2, figsize=(16, 12))\n",
        "\n",
        "# Subplot 1: Center Line Only\n",
        "ax1.plot(x_center, y_center, 'b-', linewidth=3)\n",
        "ax1.set_title('Center Line Only', fontsize=12, fontweight='bold')\n",
        "ax1.axis('equal')\n",
        "ax1.grid(True, alpha=0.3)\n",
        "\n",
        "# Subplot 2: Left and Right Boundaries Only\n",
        "ax2.plot(x_left, y_left, 'r-', linewidth=2, label='Left Boundary')\n",
        "ax2.plot(x_right, y_right, 'g-', linewidth=2, label='Right Boundary')\n",
        "ax2.set_title('Track Boundaries', fontsize=12, fontweight='bold')\n",
        "ax2.axis('equal')\n",
        "ax2.grid(True, alpha=0.3)\n",
        "ax2.legend()\n",
        "\n",
        "# Subplot 3: All Lines Combined\n",
        "ax3.plot(x_center, y_center, 'b-', linewidth=3, label='Center Line')\n",
        "ax3.plot(x_left, y_left, 'r-', linewidth=2, label='Left Boundary')\n",
        "ax3.plot(x_right, y_right, 'g-', linewidth=2, label='Right Boundary')\n",
        "ax3.set_title('Complete Track Layout', fontsize=12, fontweight='bold')\n",
        "ax3.axis('equal')\n",
        "ax3.grid(True, alpha=0.3)\n",
        "ax3.legend()\n",
        "\n",
        "# Subplot 4: Track with Points Marked\n",
        "ax4.plot(x_center, y_center, 'b-', linewidth=2, alpha=0.7)\n",
        "ax4.plot(x_left, y_left, 'r-', linewidth=2, alpha=0.7)\n",
        "ax4.plot(x_right, y_right, 'g-', linewidth=2, alpha=0.7)\n",
        "ax4.scatter(x_center[::10], y_center[::10], c='blue', s=50, zorder=5, label='Waypoints')\n",
        "ax4.set_title('Track with Waypoints', fontsize=12, fontweight='bold')\n",
        "ax4.axis('equal')\n",
        "ax4.grid(True, alpha=0.3)\n",
        "ax4.legend()\n",
        "\n",
        "# Set common labels\n",
        "for ax in [ax1, ax2, ax3, ax4]:\n",
        "    ax.set_xlabel('X Position (m)', fontsize=10)\n",
        "    ax.set_ylabel('Y Position (m)', fontsize=10)\n",
        "\n",
        "# Overall title\n",
        "fig.suptitle('AWS DeepRacer - Re:Invent Base Track Analysis', fontsize=16, fontweight='bold')\n",
        "\n",
        "# Adjust layout\n",
        "plt.tight_layout()\n",
        "\n",
        "# Save as PNG without showing\n",
        "plt.savefig('reinvent_base_track_4subplots.png', dpi=300, bbox_inches='tight', \n",
        "            facecolor='white', edgecolor='none')\n",
        "plt.close()  # Close without displaying\n",
        "\n",
        "print(\"4-subplot track PNG saved as 'reinvent_base_track_4subplots.png'\")"
      ],
      "outputs": []
    },
    {
      "cell_type": "markdown",
      "metadata": {},
      "source": [
        "## 5. Track with Point Indices\n",
        "\n",
        "Create a detailed map showing index numbers for each waypoint along the center line."
      ]
    },
    {
      "cell_type": "code",
      "execution_count": null,
      "metadata": {},
      "source": [
        "# Create a large figure with point indices\n",
        "plt.figure(figsize=(20, 14))\n",
        "\n",
        "# Plot the track boundaries\n",
        "plt.plot(x_left, y_left, 'r-', linewidth=3, label='Left Boundary', alpha=0.8)\n",
        "plt.plot(x_right, y_right, 'g-', linewidth=3, label='Right Boundary', alpha=0.8)\n",
        "\n",
        "# Plot the center line\n",
        "plt.plot(x_center, y_center, 'b-', linewidth=4, label='Center Line', alpha=0.9)\n",
        "\n",
        "# Add index numbers for each point on the center line\n",
        "for i in range(len(x_center)):\n",
        "    plt.annotate(str(i), \n",
        "                xy=(x_center[i], y_center[i]), \n",
        "                xytext=(5, 5), \n",
        "                textcoords='offset points',\n",
        "                fontsize=8,\n",
        "                fontweight='bold',\n",
        "                color='darkblue',\n",
        "                bbox=dict(boxstyle='round,pad=0.2', facecolor='white', alpha=0.8, edgecolor='none'))\n",
        "\n",
        "# Mark start/finish point more prominently\n",
        "plt.scatter(x_center[0], y_center[0], c='red', s=200, marker='*', \n",
        "           zorder=10, label='Start/Finish (Point 0)', edgecolor='darkred', linewidth=2)\n",
        "\n",
        "# Make it look professional\n",
        "plt.axis('equal')\n",
        "plt.grid(True, alpha=0.3, linestyle='--')\n",
        "plt.title('AWS DeepRacer - Re:Invent Base Track\\nWith Center Line Point Indices', \n",
        "          fontsize=18, fontweight='bold', pad=20)\n",
        "plt.xlabel('X Position (m)', fontsize=14)\n",
        "plt.ylabel('Y Position (m)', fontsize=14)\n",
        "plt.legend(fontsize=12, loc='upper right')\n",
        "\n",
        "# Add some track info as text\n",
        "info_text = f\"Total Waypoints: {len(x_center)}\\nTrack: Re:Invent Base\"\n",
        "plt.text(0.02, 0.98, info_text, transform=plt.gca().transAxes, \n",
        "         fontsize=12, verticalalignment='top',\n",
        "         bbox=dict(boxstyle='round,pad=0.5', facecolor='lightblue', alpha=0.8))\n",
        "\n",
        "# Save as PNG without showing\n",
        "plt.savefig('reinvent_base_track_with_indices.png', dpi=300, bbox_inches='tight', \n",
        "            facecolor='white', edgecolor='none')\n",
        "plt.close()  # Close without displaying\n",
        "\n",
        "print(\"Track PNG with point indices saved as 'reinvent_base_track_with_indices.png'\")"
      ],
      "outputs": []
    },
    {
      "cell_type": "markdown",
      "metadata": {},
      "source": [
        "## 6. Generated Images\n",
        "\n",
        "Below are the PNG images that were generated by the code above:"
      ]
    },
    {
      "cell_type": "markdown",
      "metadata": {},
      "source": [
        "### Basic Track Visualization\n",
        "![Basic Track](reinvent_base_track.png)"
      ]
    },
    {
      "cell_type": "markdown",
      "metadata": {},
      "source": [
        "### Four Subplot Analysis\n",
        "![Four Subplots](reinvent_base_track_4subplots.png)"
      ]
    },
    {
      "cell_type": "markdown",
      "metadata": {},
      "source": [
        "### Track with Point Indices\n",
        "![Track with Indices](reinvent_base_track_with_indices.png)"
      ]
    },
    {
      "cell_type": "markdown",
      "metadata": {},
      "source": [
        "## Summary\n",
        "\n",
        "This notebook demonstrated:\n",
        "\n",
        "1. **Data Download**: Retrieved AWS DeepRacer track data from the community repository\n",
        "2. **Data Analysis**: Loaded and examined the waypoint structure (119 points with 6 coordinates each)\n",
        "3. **Basic Visualization**: Created a clean track layout with center line and boundaries\n",
        "4. **Multi-view Analysis**: Generated 4 different perspectives of the same track data\n",
        "5. **Detailed Mapping**: Created a comprehensive view with numbered waypoints\n",
        "\n",
        "### Key Features:\n",
        "- No track surface fill (clean line-based visualization)\n",
        "- High-resolution PNG output (300 DPI)\n",
        "- Professional styling with legends and labels\n",
        "- Memory-efficient (uses plt.close() to prevent display issues)\n",
        "\n",
        "### Track Data Structure:\n",
        "The .npy files contain waypoint data with 6 columns:\n",
        "- Columns 0,1: Center line coordinates (x, y)\n",
        "- Columns 2,3: Left boundary coordinates (x, y)\n",
        "- Columns 4,5: Right boundary coordinates (x, y)\n",
        "\n",
        "This format allows for precise track representation and various visualization options for AWS DeepRacer development and analysis."
      ]
    }
  ],
  "metadata": {
    "kernelspec": {
      "display_name": "Python 3",
      "language": "python",
      "name": "python3"
    },
    "language_info": {
      "codemirror_mode": {
        "name": "ipython",
        "version": 3
      },
      "file_extension": ".py",
      "mimetype": "text/x-python",
      "name": "python",
      "nbconvert_exporter": "python",
      "pygments_lexer": "ipython3",
      "version": "3.8.5"
    }
  },
  "nbformat": 4,
  "nbformat_minor": 4
}